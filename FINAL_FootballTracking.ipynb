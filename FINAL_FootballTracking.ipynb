{
 "cells": [
  {
   "cell_type": "markdown",
   "id": "defc0a73",
   "metadata": {},
   "source": [
    "# SCE4104: Practical Applications of Computer Vision Assignment\n",
    "## Part 1: Ball Tracking"
   ]
  },
  {
   "cell_type": "markdown",
   "id": "050d4c76",
   "metadata": {},
   "source": [
    "How to use:\n",
    "\n",
    "The below code performs and combines numerous calculations to produce a ball detection. Select which video (and corresponding annotations) you wish to track in the indicated lines of code, after ensuring that the paths to the videos and annotations are accurate.\n",
    "\n",
    "If you wish to save the results to a csv file, set the correct path to a pre-existing csv file under the video-specific parameters section of code. Furthermore, ensure that within the while loop, the line calling the function (\"results_tocsv(f,x,y)\") is uncommented.\n",
    "\n",
    "If you wish to view the video clip with the ground truth of the ball, together with the detected ball, ensure that the line (\"cv2.imshow(\"Frame\", frame)\") is uncommented. If you wish to view the mask of the video clip with the applied pre-processing, ensure the line following the aforementioned, (\"cv2.imshow(\"Mask\", mask_erode)\") is uncommented.\n",
    "\n",
    "When changing video selection, restart the kernel and run all again."
   ]
  },
  {
   "cell_type": "code",
   "execution_count": 1,
   "id": "ea53d73d",
   "metadata": {},
   "outputs": [],
   "source": [
    "import numpy as np\n",
    "import cv2\n",
    "import pandas as pd\n",
    "import math\n",
    "import matplotlib.pyplot as plt\n",
    "import csv"
   ]
  },
  {
   "cell_type": "markdown",
   "id": "930803ed",
   "metadata": {},
   "source": [
    "Import video files"
   ]
  },
  {
   "cell_type": "code",
   "execution_count": 2,
   "id": "1526e45b",
   "metadata": {},
   "outputs": [],
   "source": [
    "vid1 = cv2.VideoCapture(\"filmrole1.avi\")\n",
    "vid2 = cv2.VideoCapture(\"filmrole2.avi\")\n",
    "vid3 = cv2.VideoCapture(\"filmrole3.avi\")\n",
    "vid4 = cv2.VideoCapture(\"filmrole4.avi\")\n",
    "vid5 = cv2.VideoCapture(\"filmrole5.avi\")\n",
    "vid6 = cv2.VideoCapture(\"filmrole6.avi\")"
   ]
  },
  {
   "cell_type": "markdown",
   "id": "55cd5919",
   "metadata": {},
   "source": [
    "Read csv files and convert them to numpy array\n",
    "Annotations are stored in the form: (frame, x, y)"
   ]
  },
  {
   "cell_type": "code",
   "execution_count": 3,
   "id": "d243de49",
   "metadata": {
    "scrolled": true
   },
   "outputs": [
    {
     "name": "stdout",
     "output_type": "stream",
     "text": [
      "(2998, 3)\n",
      "[[1 ' -' ' -']\n",
      " [2 ' -' ' -']\n",
      " [3 ' -' ' -']]\n"
     ]
    }
   ],
   "source": [
    "vid1_ann = pd.DataFrame.to_numpy(pd.read_csv(\"Annotation Files/cam-1.csv\"))\n",
    "vid2_ann = pd.DataFrame.to_numpy(pd.read_csv(\"Annotation Files/cam-2.csv\"))\n",
    "vid3_ann = pd.DataFrame.to_numpy(pd.read_csv(\"Annotation Files/cam-3.csv\"))\n",
    "vid4_ann = pd.DataFrame.to_numpy(pd.read_csv(\"Annotation Files/cam-4.csv\"))\n",
    "vid5_ann = pd.DataFrame.to_numpy(pd.read_csv(\"Annotation Files/cam-5.csv\"))\n",
    "vid6_ann = pd.DataFrame.to_numpy(pd.read_csv(\"Annotation Files/cam-6.csv\"))\n",
    "print(vid1_ann.shape)\n",
    "print(vid1_ann[0:3])"
   ]
  },
  {
   "cell_type": "markdown",
   "id": "d718a023",
   "metadata": {},
   "source": [
    "Choose which video to track"
   ]
  },
  {
   "cell_type": "code",
   "execution_count": 4,
   "id": "1cfd7c17",
   "metadata": {},
   "outputs": [],
   "source": [
    "vid = vid1\n",
    "vid_ann = vid1_ann"
   ]
  },
  {
   "cell_type": "markdown",
   "id": "1f3e2a66",
   "metadata": {},
   "source": [
    "Declare the 'no ball present' special character, as found in ground truth"
   ]
  },
  {
   "cell_type": "code",
   "execution_count": 5,
   "id": "f9855b6d",
   "metadata": {},
   "outputs": [],
   "source": [
    "char = \"-\""
   ]
  },
  {
   "cell_type": "markdown",
   "id": "47fb8ffb",
   "metadata": {},
   "source": [
    "Set certain variables which depend on the video, such as:\n",
    "- shape, centre and radius of template,\n",
    "- number of pixels to omit from the top,\n",
    "- minimum and maximum ball area,\n",
    "- file to save results to (csv)"
   ]
  },
  {
   "cell_type": "code",
   "execution_count": 6,
   "id": "f2776c63",
   "metadata": {},
   "outputs": [],
   "source": [
    "if vid == vid1:\n",
    "    shape = (19,19,3)\n",
    "    centre = (9,9)\n",
    "    radius = 9\n",
    "    y_top = 100\n",
    "    area_min = 200\n",
    "    area_max = 800\n",
    "    path = 'E:/Engineering 4th Year/SCE4104 Practical Applications of Computer Vision/Assignment/Results_FINAL/vid1.csv'\n",
    "elif vid == vid2:\n",
    "    shape = (15,15,3)\n",
    "    centre = (7,7)\n",
    "    radius = 7\n",
    "    y_top = 100\n",
    "    area_min = 200\n",
    "    area_max = 800\n",
    "    path = 'E:/Engineering 4th Year/SCE4104 Practical Applications of Computer Vision/Assignment/Results_FINAL/vid2.csv'\n",
    "elif vid == vid3:\n",
    "    shape = (15,15,3)\n",
    "    centre = (7,7)\n",
    "    radius = 7\n",
    "    y_top = 100\n",
    "    area_min = 200\n",
    "    area_max = 500\n",
    "    path = 'E:/Engineering 4th Year/SCE4104 Practical Applications of Computer Vision/Assignment/Results_FINAL/vid3.csv'\n",
    "elif vid == vid4:\n",
    "    shape = (19,19,3)\n",
    "    centre = (9,9)\n",
    "    radius = 9\n",
    "    y_top = 50\n",
    "    area_min = 400\n",
    "    area_max = 1000\n",
    "    path = 'E:/Engineering 4th Year/SCE4104 Practical Applications of Computer Vision/Assignment/Results_FINAL/vid4.csv'\n",
    "elif vid == vid5:\n",
    "    shape = (13,13,3)\n",
    "    centre = (6,6)\n",
    "    radius = 6\n",
    "    y_top = 50\n",
    "    area_min = 200\n",
    "    area_max = 800\n",
    "    path = 'E:/Engineering 4th Year/SCE4104 Practical Applications of Computer Vision/Assignment/Results_FINAL/vid5.csv'\n",
    "elif vid == vid6:\n",
    "    shape = (15,15,3)\n",
    "    centre = (7,7)\n",
    "    radius = 7\n",
    "    y_top = 100\n",
    "    area_min = 200\n",
    "    area_max = 800\n",
    "    path = 'E:/Engineering 4th Year/SCE4104 Practical Applications of Computer Vision/Assignment/Results_FINAL/vid6.csv'"
   ]
  },
  {
   "cell_type": "markdown",
   "id": "a209053a",
   "metadata": {},
   "source": [
    "Construct template"
   ]
  },
  {
   "cell_type": "code",
   "execution_count": 7,
   "id": "2de4d33b",
   "metadata": {},
   "outputs": [
    {
     "data": {
      "text/plain": [
       "<matplotlib.image.AxesImage at 0x178bc1d37c0>"
      ]
     },
     "execution_count": 7,
     "metadata": {},
     "output_type": "execute_result"
    },
    {
     "data": {
      "image/png": "[encoded data removed]",
      "text/plain": [
       "<Figure size 432x288 with 1 Axes>"
      ]
     },
     "metadata": {
      "needs_background": "light"
     },
     "output_type": "display_data"
    }
   ],
   "source": [
    "tmpl_back = np.zeros(shape=shape,dtype=\"uint8\")\n",
    "#ball_tmpl = cv2.ellipse(img=tmpl_back, center=centre,axes=(radius,2*radius//3),angle=180,startAngle=0,endAngle=360, color=(255,255,255), thickness=-1)\n",
    "ball_tmpl = cv2.circle(tmpl_back, center=centre,radius=radius,color=(255,255,255), thickness=-1)\n",
    "ball_tmpl = cv2.cvtColor(ball_tmpl, cv2.COLOR_BGR2GRAY)\n",
    "plt.imshow(ball_tmpl,cmap='gray')"
   ]
  },
  {
   "cell_type": "markdown",
   "id": "15d380af",
   "metadata": {},
   "source": [
    "Define object detector"
   ]
  },
  {
   "cell_type": "code",
   "execution_count": 8,
   "id": "513045c1",
   "metadata": {},
   "outputs": [],
   "source": [
    "object_detector = cv2.createBackgroundSubtractorMOG2(history=100,varThreshold=40)"
   ]
  },
  {
   "cell_type": "markdown",
   "id": "f6ad2f89",
   "metadata": {},
   "source": [
    "Function that performs preprocessing on the image frame"
   ]
  },
  {
   "cell_type": "code",
   "execution_count": 9,
   "id": "51dadd08",
   "metadata": {},
   "outputs": [],
   "source": [
    "def preprocessing(frame):\n",
    "        \n",
    "    kernel = np.ones((3,3),dtype=np.uint8)\n",
    "    \n",
    "    # Object Detection: mask leaves unwanted objects black, objects of importance white\n",
    "    mask = (object_detector.apply(frame))[y_top:,0:]\n",
    "    mask_erode = cv2.erode(src=mask,kernel=kernel,iterations=1)\n",
    "    mask_dilate = cv2.dilate(src=mask_erode,kernel=kernel,iterations=4)\n",
    "    mask_erode = cv2.erode(src=mask_dilate,kernel=kernel,iterations=2)\n",
    "    contours, _ = cv2.findContours(mask_erode, cv2.RETR_EXTERNAL, cv2.CHAIN_APPROX_NONE)\n",
    "    \n",
    "    return contours, mask_erode"
   ]
  },
  {
   "cell_type": "markdown",
   "id": "99d0df39",
   "metadata": {},
   "source": [
    "Function that performs computations about ball criteria"
   ]
  },
  {
   "cell_type": "code",
   "execution_count": 10,
   "id": "2bd77698",
   "metadata": {},
   "outputs": [],
   "source": [
    "def gen_score(hull,ROI,xrect,yrect):\n",
    "    score = []\n",
    "    global scores_cnt\n",
    "    \n",
    "    if ROI.shape[0] > ball_tmpl.shape[0] and ROI.shape[1] > ball_tmpl.shape[1]:\n",
    "        tmpl_match = cv2.matchTemplate(image=ROI,templ=ball_tmpl,method=cv2.TM_SQDIFF)\n",
    "        min_score, _, min_loc, _ = cv2.minMaxLoc(tmpl_match)\n",
    "        score.append(min_score)\n",
    "    \n",
    "    else:\n",
    "        score.append(0)\n",
    "    \n",
    "    if (w/h) > 0.7:\n",
    "        (x,y), rad = cv2.minEnclosingCircle(cnt)\n",
    "        area = math.pi*rad*rad\n",
    "        if area > area_min and area < area_max:\n",
    "            score.append(x)\n",
    "            score.append(y)\n",
    "            score.append(rad)\n",
    "        else:\n",
    "            score.append(0)\n",
    "            score.append(0)\n",
    "            score.append(0)\n",
    "    else:\n",
    "        score.append(0)\n",
    "        score.append(0)\n",
    "        score.append(0)\n",
    "            \n",
    "    scores_cnt.append(score)"
   ]
  },
  {
   "cell_type": "markdown",
   "id": "d5d8da2b",
   "metadata": {},
   "source": [
    "Function that analyses detected contours and their properties and decides which contours qualify for a ball"
   ]
  },
  {
   "cell_type": "code",
   "execution_count": 11,
   "id": "4362fc3d",
   "metadata": {},
   "outputs": [],
   "source": [
    "def plot_ball():\n",
    "    #print(scores_cnt)\n",
    "    # The rows 'eligible' for plotting in scores_cnt are those which have a template match value and co ordinates\n",
    "    for row in scores_cnt:\n",
    "        num_nonzero = np.count_nonzero(row)\n",
    "        if num_nonzero == 4:\n",
    "            eligible.append(row)\n",
    "        else:\n",
    "            1\n",
    "    if eligible != []:\n",
    "        min_score = np.min(a=eligible,axis=0)\n",
    "        x = int(min_score[1])\n",
    "        y = int(min_score[2])\n",
    "        rad =int(min_score[3])\n",
    "        cv2.circle(frame, (x,y+y_top), rad, (255,0,0), 3)\n",
    "        cv2.putText(frame, \"Detected\", (x,y+(2*rad)+y_top), cv2.FONT_HERSHEY_SIMPLEX, 0.5, (255,0,0), 1)\n",
    "    else:\n",
    "        x = 2000\n",
    "        y = 2000\n",
    "        \n",
    "    return x, y"
   ]
  },
  {
   "cell_type": "markdown",
   "id": "4a500fcd",
   "metadata": {},
   "source": [
    "Functions that plots the ground truth of the ball where it has been provided"
   ]
  },
  {
   "cell_type": "code",
   "execution_count": 12,
   "id": "c0193a09",
   "metadata": {},
   "outputs": [],
   "source": [
    "def plot_groundtruth(f):\n",
    "    # Plot the ground truth, where it exists, assuming a radius of 15\n",
    "    x_ann = ann[f,1]\n",
    "    y_ann = ann[f,2]\n",
    "    if not any(c in x_ann for c in char):\n",
    "        x_ann = int(x_ann)\n",
    "        y_ann = int(y_ann)\n",
    "        cv2.circle(frame, (x_ann,y_ann), 15, (0,0,255), 3)\n",
    "        cv2.putText(frame, \"Actual\", (x_ann,y_ann+(2*15)), cv2.FONT_HERSHEY_SIMPLEX, 0.5, (0,0,255), 1)"
   ]
  },
  {
   "cell_type": "markdown",
   "id": "8c2da9c8",
   "metadata": {},
   "source": [
    "Function that saves results to a csv file"
   ]
  },
  {
   "cell_type": "code",
   "execution_count": 13,
   "id": "1634160b",
   "metadata": {},
   "outputs": [],
   "source": [
    "def results_tocsv(f, x, y): \n",
    "    f = f+1\n",
    "    if x!=2000 and y!=2000:\n",
    "        y = y + y_top\n",
    "        row = [f, x, y]\n",
    "    else:\n",
    "        row = [f, '-', '-']\n",
    "    # open the file in append mode\n",
    "    with open(file=path, mode='a',newline=\"\") as file:\n",
    "        # create the csv writer\n",
    "        writer = csv.writer(file)\n",
    "        # write a row to the csv file\n",
    "        writer.writerow(row)"
   ]
  },
  {
   "cell_type": "markdown",
   "id": "5e3d4776",
   "metadata": {},
   "source": [
    "Load video and call required functions. Show the desired windows, and plot the ground truth bounding boxes where it exists."
   ]
  },
  {
   "cell_type": "code",
   "execution_count": 14,
   "id": "48811929",
   "metadata": {},
   "outputs": [],
   "source": [
    "#Loading Video\n",
    "cap = vid\n",
    "ann = vid_ann\n",
    "\n",
    "f = 0\n",
    "\n",
    "while cap.isOpened():\n",
    "    ret, frame = cap.read()\n",
    "    \n",
    "    if ret == True:\n",
    "        hull = []\n",
    "        scores_cnt = []\n",
    "        eligible = []\n",
    "\n",
    "        # Function that performs background subtraction and morphological operations to the frame\n",
    "        # to return contours of moving objects\n",
    "        contours, mask_erode = preprocessing(frame)\n",
    "\n",
    "        for cnt in contours:\n",
    "            # Apply convex hull to obtain a rectangle that fits the objects\n",
    "            hull = cv2.convexHull(cnt)\n",
    "            xrect, yrect, w, h = cv2.boundingRect(hull)\n",
    "            ROI = frame[xrect:xrect+w,yrect:yrect+h]\n",
    "            # Ensure that the ROI is in grayscale\n",
    "            if len(ROI) > 0:\n",
    "                ROI_gray = cv2.cvtColor(src=ROI, code=cv2.COLOR_BGR2GRAY)\n",
    "            else:\n",
    "                ROI_gray = ROI\n",
    "\n",
    "            # Call function to perform template matching on the region of interest\n",
    "            gen_score(hull,ROI_gray,xrect,yrect)\n",
    "\n",
    "        # Call function to check which contours satisfy criteria for detected ball and plot\n",
    "        x,y = plot_ball()           \n",
    "\n",
    "        # Call function which plots the ground truth\n",
    "        plot_groundtruth(f)\n",
    "\n",
    "        # Call function which saves data to csv\n",
    "        #results_tocsv(f,x,y)\n",
    "\n",
    "        cv2.imshow(\"Frame\", frame)\n",
    "        #cv2.imshow(\"Mask\", mask_erode)\n",
    "\n",
    "        f = f + 1\n",
    "\n",
    "        key = cv2.waitKey(2)\n",
    "        if key == 27:\n",
    "            break\n",
    "    \n",
    "    else:\n",
    "        break\n",
    "        \n",
    "cap.release()\n",
    "cv2.destroyAllWindows()"
   ]
  },
  {
   "cell_type": "code",
   "execution_count": null,
   "id": "42a39b2f",
   "metadata": {},
   "outputs": [],
   "source": []
  }
 ],
 "metadata": {
  "kernelspec": {
   "display_name": "Python 3 (ipykernel)",
   "language": "python",
   "name": "python3"
  },
  "language_info": {
   "codemirror_mode": {
    "name": "ipython",
    "version": 3
   },
   "file_extension": ".py",
   "mimetype": "text/x-python",
   "name": "python",
   "nbconvert_exporter": "python",
   "pygments_lexer": "ipython3",
   "version": "3.8.12"
  }
 },
 "nbformat": 4,
 "nbformat_minor": 5
}
