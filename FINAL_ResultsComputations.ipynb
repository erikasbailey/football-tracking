{
 "cells": [
  {
   "cell_type": "markdown",
   "id": "358d062d",
   "metadata": {},
   "source": [
    "## SCE4104: Practical Applications of Computer Vision Assignment\n",
    "## Part 2: Results Analysis"
   ]
  },
  {
   "cell_type": "markdown",
   "id": "add36132",
   "metadata": {},
   "source": [
    "How to use:\n",
    "\n",
    "Set the appropriate paths in cell 2 to the csv files required.\n",
    "Restart and run all code to generate results."
   ]
  },
  {
   "cell_type": "markdown",
   "id": "d03636fc",
   "metadata": {},
   "source": [
    "Import the necessary libraries"
   ]
  },
  {
   "cell_type": "code",
   "execution_count": 1,
   "id": "ae01749d",
   "metadata": {},
   "outputs": [],
   "source": [
    "import numpy as np\n",
    "import pandas as pd\n",
    "import math\n",
    "import csv\n",
    "from sklearn.metrics import mean_absolute_error"
   ]
  },
  {
   "cell_type": "markdown",
   "id": "b3478121",
   "metadata": {},
   "source": [
    "Set paths for csv files"
   ]
  },
  {
   "cell_type": "code",
   "execution_count": 2,
   "id": "67c5b68d",
   "metadata": {},
   "outputs": [],
   "source": [
    "path_src = 'E:/Engineering 4th Year/SCE4104 Practical Applications of Computer Vision/Assignment/Results_FINAL/vid3.csv'\n",
    "path_dst = 'E:/Engineering 4th Year/SCE4104 Practical Applications of Computer Vision/Assignment/Results_FINAL/Results_TruePositives/vid3_TP.csv'\n",
    "path_cmp = 'E:/Engineering 4th Year/SCE4104 Practical Applications of Computer Vision/Assignment/Annotation Files/cam-3.csv'"
   ]
  },
  {
   "cell_type": "markdown",
   "id": "0408a375",
   "metadata": {},
   "source": [
    "Load data as numpy array"
   ]
  },
  {
   "cell_type": "code",
   "execution_count": 3,
   "id": "762a6cc5",
   "metadata": {},
   "outputs": [],
   "source": [
    "data_src = pd.DataFrame.to_numpy(pd.read_csv(path_src))\n",
    "data_cmp = pd.DataFrame.to_numpy(pd.read_csv(path_cmp))"
   ]
  },
  {
   "cell_type": "markdown",
   "id": "8b6b566b",
   "metadata": {},
   "source": [
    "Ensure that the data is consistent"
   ]
  },
  {
   "cell_type": "code",
   "execution_count": 4,
   "id": "9d3ff268",
   "metadata": {},
   "outputs": [
    {
     "name": "stdout",
     "output_type": "stream",
     "text": [
      "Same number of rows/columns in source file and ground truth\n",
      "Carry on\n"
     ]
    }
   ],
   "source": [
    "rows_src = len(data_src)\n",
    "cols_src = len(data_src[0])\n",
    "\n",
    "rows_cmp = len(data_cmp)\n",
    "cols_cmp = len(data_cmp[0])\n",
    "\n",
    "if(rows_src != rows_cmp) or (cols_src != cols_cmp):\n",
    "    print('Number of rows/columns of source file is not equal to number of rows/columns in ground truth')\n",
    "    print('Check and fix error before continuing')\n",
    "else:\n",
    "    print('Same number of rows/columns in source file and ground truth')\n",
    "    print('Carry on')"
   ]
  },
  {
   "cell_type": "markdown",
   "id": "ae5dec01",
   "metadata": {},
   "source": [
    "Remove false positives by thresholding objects more than 50 pixels away from the ground truth and removing detected objects which do not have a corresponding ground truth.\n",
    "Note also instances of true positives, true negatives, and false positives for statistical use at a later stage."
   ]
  },
  {
   "cell_type": "code",
   "execution_count": 5,
   "id": "d4367720",
   "metadata": {},
   "outputs": [
    {
     "name": "stdout",
     "output_type": "stream",
     "text": [
      "[['1' '-' '-']\n",
      " ['2' '-' '-']\n",
      " ['3' '-' '-']\n",
      " ...\n",
      " ['2997' '271' '389']\n",
      " ['2998' '-' '-']\n",
      " ['2999' '-' '-']] 165 1275\n"
     ]
    }
   ],
   "source": [
    "data_dst = np.zeros((0,cols_src))\n",
    "tp_src = 0\n",
    "tn_src = 0\n",
    "fp_src = 0\n",
    "\n",
    "for i in range(rows_src):\n",
    "    frame = data_src[i][0]\n",
    "    x_src = data_src[i][1]\n",
    "    x_cmp = data_cmp[i][1]\n",
    "    y_src = data_src[i][2]\n",
    "    y_cmp = data_cmp[i][2]\n",
    "    \n",
    "    if x_cmp == ' -' or x_cmp == '-':\n",
    "        x_cmp_exist = True\n",
    "    else:\n",
    "        x_cmp_exist = False\n",
    "        \n",
    "    if x_src == '-' and x_cmp_exist == True:\n",
    "        tn_src = tn_src+1\n",
    "        \n",
    "    if x_src != '-' and x_src!= ' -' and x_cmp_exist == False:\n",
    "        x_diff = abs(int(x_src) - int(x_cmp))\n",
    "        y_diff = abs(int(y_src) - int(y_cmp))\n",
    "        if x_diff > 50 or y_diff > 50:\n",
    "            newdata = [frame,'-','-']\n",
    "            data_dst = np.vstack([data_dst,newdata])\n",
    "            fp_src = fp_src + 1\n",
    "        else:\n",
    "            newdata = [frame,x_src,y_src]\n",
    "            data_dst = np.vstack([data_dst,newdata])\n",
    "            tp_src = tp_src + 1\n",
    "    else:\n",
    "        newdata = [frame,'-','-']\n",
    "        data_dst = np.vstack([data_dst,newdata])\n",
    "        \n",
    "print(data_dst, tp_src, tn_src)"
   ]
  },
  {
   "cell_type": "markdown",
   "id": "0dc26976",
   "metadata": {},
   "source": [
    "Save the new data to the csv file to keep record"
   ]
  },
  {
   "cell_type": "code",
   "execution_count": 6,
   "id": "b098398e",
   "metadata": {},
   "outputs": [],
   "source": [
    "pd.DataFrame(data_dst).to_csv(path_dst, header=['Frame No.', 'x', 'y'], index=None)"
   ]
  },
  {
   "cell_type": "markdown",
   "id": "93f2ec2c",
   "metadata": {},
   "source": [
    "Ensure the data structure is correct"
   ]
  },
  {
   "cell_type": "code",
   "execution_count": 7,
   "id": "e4c4661e",
   "metadata": {},
   "outputs": [
    {
     "name": "stdout",
     "output_type": "stream",
     "text": [
      "Same number of rows/columns in true positives and ground truth\n",
      "Carry on\n"
     ]
    }
   ],
   "source": [
    "# data_cmp - ground truth\n",
    "# data_dst - true positives\n",
    "\n",
    "rows_dst = len(data_dst)\n",
    "cols_dst = len(data_dst[0])\n",
    "\n",
    "rows_cmp = len(data_cmp)\n",
    "cols_cmp = len(data_cmp[0])\n",
    "\n",
    "if(rows_dst != rows_cmp) or (cols_dst != cols_cmp):\n",
    "    print('Number of rows/columns of true positives is not equal to number of rows/columns in ground truth')\n",
    "    print('Check and fix error before continuing')\n",
    "else:\n",
    "    print('Same number of rows/columns in true positives and ground truth')\n",
    "    print('Carry on')"
   ]
  },
  {
   "cell_type": "markdown",
   "id": "80ab0dc6",
   "metadata": {},
   "source": [
    "Instantiate new sets of arrays"
   ]
  },
  {
   "cell_type": "code",
   "execution_count": 8,
   "id": "b1e1916c",
   "metadata": {},
   "outputs": [],
   "source": [
    "x_dst = []\n",
    "y_dst = []\n",
    "x_cmp = []\n",
    "y_cmp = []"
   ]
  },
  {
   "cell_type": "markdown",
   "id": "95ce0330",
   "metadata": {},
   "source": [
    "Compute the mean absolute error, for each true positive location for the ball"
   ]
  },
  {
   "cell_type": "code",
   "execution_count": 9,
   "id": "73845c04",
   "metadata": {},
   "outputs": [],
   "source": [
    "# Replace all instances of '-' with 0\n",
    "x_dst = data_dst[:,1]\n",
    "x_dst[:] = [0 if x=='-' else x for x in x_dst] \n",
    "y_dst = data_dst[:,2]\n",
    "y_dst[:] = [0 if y=='-' else y for y in y_dst]\n",
    "x_cmp = data_cmp[:,1]\n",
    "x_cmp[:] = [0 if x=='-' else x for x in x_cmp]\n",
    "x_cmp[:] = [0 if x==' -' else x for x in x_cmp]\n",
    "y_cmp = data_cmp[:,2]\n",
    "y_cmp[:] = [0 if y=='-' else y for y in y_cmp]\n",
    "y_cmp[:] = [0 if y==' -' else y for y in y_cmp]\n",
    "\n",
    "\n",
    "# Number of true positives and true negatives in ground truth\n",
    "tp_cmp = len(x_cmp[x_cmp != 0])\n",
    "tn_cmp = len(x_cmp) - tp_cmp\n",
    "\n",
    "# Ignore ground truths which correspond to false negatives by detections\n",
    "for i in range(len(x_dst)):\n",
    "    if x_dst[i] == '0':\n",
    "        x_cmp[i] = 0\n",
    "        y_cmp[i] = 0\n",
    "        \n",
    "# Remove zero elements to compute over true positives only\n",
    "x_dst_f = np.array(x_dst[x_dst != '0'], dtype=float)\n",
    "x_cmp_f = np.array(x_cmp[x_cmp != 0], dtype=float)\n",
    "y_dst_f = np.array(y_dst[y_dst != '0'], dtype=float)\n",
    "y_cmp_f = np.array(y_cmp[y_cmp != 0], dtype=float)"
   ]
  },
  {
   "cell_type": "code",
   "execution_count": 10,
   "id": "440cfbc5",
   "metadata": {
    "scrolled": true
   },
   "outputs": [],
   "source": [
    "y_mae = mean_absolute_error(y_cmp_f, y_dst_f)\n",
    "x_mae = mean_absolute_error(x_cmp_f, x_dst_f)"
   ]
  },
  {
   "cell_type": "code",
   "execution_count": 11,
   "id": "6dd51da6",
   "metadata": {},
   "outputs": [],
   "source": [
    "sens = tp_src*100/tp_cmp"
   ]
  },
  {
   "cell_type": "code",
   "execution_count": 12,
   "id": "ccd0ac2c",
   "metadata": {},
   "outputs": [],
   "source": [
    "spec = tn_src*100/tn_cmp"
   ]
  },
  {
   "cell_type": "code",
   "execution_count": 13,
   "id": "ac27da52",
   "metadata": {},
   "outputs": [
    {
     "name": "stdout",
     "output_type": "stream",
     "text": [
      "Mean Absolute Error for x co-ordinates:  3.3636363636363638\n",
      "Mean Absolute Error for y co-ordinates:  4.375757575757576\n",
      "Sensitivity (TP rate):  10.529674537332482 %\n",
      "Specificity (TN rate):  89.03631284916202 %\n"
     ]
    }
   ],
   "source": [
    "print(\"Mean Absolute Error for x co-ordinates: \", x_mae)\n",
    "print(\"Mean Absolute Error for y co-ordinates: \", y_mae)\n",
    "print(\"Sensitivity (TP rate): \", sens,\"%\")\n",
    "print(\"Specificity (TN rate): \", spec,\"%\")"
   ]
  }
 ],
 "metadata": {
  "kernelspec": {
   "display_name": "Python 3 (ipykernel)",
   "language": "python",
   "name": "python3"
  },
  "language_info": {
   "codemirror_mode": {
    "name": "ipython",
    "version": 3
   },
   "file_extension": ".py",
   "mimetype": "text/x-python",
   "name": "python",
   "nbconvert_exporter": "python",
   "pygments_lexer": "ipython3",
   "version": "3.8.12"
  }
 },
 "nbformat": 4,
 "nbformat_minor": 5
}
